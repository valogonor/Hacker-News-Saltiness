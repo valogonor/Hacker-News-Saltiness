{
 "cells": [
  {
   "cell_type": "markdown",
   "metadata": {
    "colab_type": "text",
    "id": "view-in-github"
   },
   "source": [
    "<a href=\"https://colab.research.google.com/github/valogonor/Hacker-News-Saltiness/blob/master/HackerNews.ipynb\" target=\"_parent\"><img src=\"https://colab.research.google.com/assets/colab-badge.svg\" alt=\"Open In Colab\"/></a>"
   ]
  },
  {
   "cell_type": "code",
   "execution_count": 0,
   "metadata": {
    "colab": {
     "base_uri": "https://localhost:8080/",
     "height": 146
    },
    "colab_type": "code",
    "id": "8wvfkdMDMsmz",
    "outputId": "3240398a-606a-473e-c985-8bbc79d64c04"
   },
   "outputs": [
    {
     "name": "stdout",
     "output_type": "stream",
     "text": [
      "Go to this URL in a browser: https://accounts.google.com/o/oauth2/auth?client_id=947318989803-6bn6qk8qdgf4n4g3pfee6491hc0brc4i.apps.googleusercontent.com&redirect_uri=urn%3Aietf%3Awg%3Aoauth%3A2.0%3Aoob&scope=email%20https%3A%2F%2Fwww.googleapis.com%2Fauth%2Fdocs.test%20https%3A%2F%2Fwww.googleapis.com%2Fauth%2Fdrive%20https%3A%2F%2Fwww.googleapis.com%2Fauth%2Fdrive.photos.readonly%20https%3A%2F%2Fwww.googleapis.com%2Fauth%2Fpeopleapi.readonly&response_type=code\n",
      "\n",
      "Enter your authorization code:\n",
      "··········\n",
      "Mounted at /content/drive\n",
      "env: GOOGLE_APPLICATION_CREDENTIALS=/content/drive/My Drive/hackernews-234220-f79de4ee5df0.json\n"
     ]
    }
   ],
   "source": [
    "from google.cloud import bigquery\n",
    "\n",
    "# For Colab we can have it in Google Drive\n",
    "\n",
    "from google.colab import drive\n",
    "\n",
    "drive.mount('/content/drive')\n",
    "\n",
    "%env GOOGLE_APPLICATION_CREDENTIALS=/content/drive/My Drive/[environment_variables_here]"
   ]
  },
  {
   "cell_type": "code",
   "execution_count": 0,
   "metadata": {
    "colab": {},
    "colab_type": "code",
    "id": "vt-pO6OPNOzJ"
   },
   "outputs": [],
   "source": [
    "client = bigquery.Client()"
   ]
  },
  {
   "cell_type": "code",
   "execution_count": 0,
   "metadata": {
    "colab": {},
    "colab_type": "code",
    "id": "x6Okg0xiM598"
   },
   "outputs": [],
   "source": [
    "hn_dataset_ref = client.dataset('hacker_news', project='bigquery-public-data')"
   ]
  },
  {
   "cell_type": "code",
   "execution_count": 0,
   "metadata": {
    "colab": {
     "base_uri": "https://localhost:8080/",
     "height": 35
    },
    "colab_type": "code",
    "id": "hisT95rcS98Z",
    "outputId": "e2504a71-eb0d-49ee-c7fa-a5f8ac84b85f"
   },
   "outputs": [
    {
     "data": {
      "text/plain": [
       "google.cloud.bigquery.dataset.DatasetReference"
      ]
     },
     "execution_count": 5,
     "metadata": {
      "tags": []
     },
     "output_type": "execute_result"
    }
   ],
   "source": [
    "type(hn_dataset_ref)"
   ]
  },
  {
   "cell_type": "code",
   "execution_count": 0,
   "metadata": {
    "colab": {},
    "colab_type": "code",
    "id": "5W__jFLQTFzZ"
   },
   "outputs": [],
   "source": [
    "hn_dset = client.get_dataset(hn_dataset_ref)"
   ]
  },
  {
   "cell_type": "code",
   "execution_count": 0,
   "metadata": {
    "colab": {
     "base_uri": "https://localhost:8080/",
     "height": 35
    },
    "colab_type": "code",
    "id": "Q5fRm6p-VRa6",
    "outputId": "113a5210-a166-400a-aa23-bbb785317239"
   },
   "outputs": [
    {
     "data": {
      "text/plain": [
       "google.cloud.bigquery.dataset.Dataset"
      ]
     },
     "execution_count": 7,
     "metadata": {
      "tags": []
     },
     "output_type": "execute_result"
    }
   ],
   "source": [
    "type(hn_dset)"
   ]
  },
  {
   "cell_type": "code",
   "execution_count": 0,
   "metadata": {
    "colab": {},
    "colab_type": "code",
    "id": "BhfgR892Vk5h"
   },
   "outputs": [],
   "source": [
    "hn_comments = client.get_table(hn_dset.table('comments'))"
   ]
  },
  {
   "cell_type": "code",
   "execution_count": 0,
   "metadata": {
    "colab": {
     "base_uri": "https://localhost:8080/",
     "height": 35
    },
    "colab_type": "code",
    "id": "puBdyD04l4Yz",
    "outputId": "a5e02ece-ae5c-4f7d-bf39-9e1df1837638"
   },
   "outputs": [
    {
     "data": {
      "text/plain": [
       "google.cloud.bigquery.table.Table"
      ]
     },
     "execution_count": 9,
     "metadata": {
      "tags": []
     },
     "output_type": "execute_result"
    }
   ],
   "source": [
    "type(hn_comments)"
   ]
  },
  {
   "cell_type": "code",
   "execution_count": 0,
   "metadata": {
    "colab": {
     "base_uri": "https://localhost:8080/",
     "height": 598
    },
    "colab_type": "code",
    "id": "-Xt5rIUkl_IC",
    "outputId": "6bf1ce00-1f18-476c-edb3-e8f5bc547845"
   },
   "outputs": [
    {
     "data": {
      "text/plain": [
       "['clustering_fields',\n",
       " 'created',\n",
       " 'dataset_id',\n",
       " 'description',\n",
       " 'encryption_configuration',\n",
       " 'etag',\n",
       " 'expires',\n",
       " 'external_data_configuration',\n",
       " 'friendly_name',\n",
       " 'from_api_repr',\n",
       " 'from_string',\n",
       " 'full_table_id',\n",
       " 'labels',\n",
       " 'location',\n",
       " 'modified',\n",
       " 'num_bytes',\n",
       " 'num_rows',\n",
       " 'partition_expiration',\n",
       " 'partitioning_type',\n",
       " 'path',\n",
       " 'project',\n",
       " 'reference',\n",
       " 'schema',\n",
       " 'self_link',\n",
       " 'streaming_buffer',\n",
       " 'table_id',\n",
       " 'table_type',\n",
       " 'time_partitioning',\n",
       " 'to_api_repr',\n",
       " 'to_bqstorage',\n",
       " 'view_query',\n",
       " 'view_use_legacy_sql']"
      ]
     },
     "execution_count": 10,
     "metadata": {
      "tags": []
     },
     "output_type": "execute_result"
    }
   ],
   "source": [
    "[command for command in dir(hn_comments) if not command.startswith('_')]"
   ]
  },
  {
   "cell_type": "code",
   "execution_count": 0,
   "metadata": {
    "colab": {
     "base_uri": "https://localhost:8080/",
     "height": 199
    },
    "colab_type": "code",
    "id": "wBKStasFmLz0",
    "outputId": "303f26b1-7916-4a59-8df0-3ef90c8ab387"
   },
   "outputs": [
    {
     "data": {
      "text/plain": [
       "[SchemaField('id', 'INTEGER', 'NULLABLE', 'Unique comment ID', ()),\n",
       " SchemaField('by', 'STRING', 'NULLABLE', 'Username of commenter', ()),\n",
       " SchemaField('author', 'STRING', 'NULLABLE', 'Username of author', ()),\n",
       " SchemaField('time', 'INTEGER', 'NULLABLE', 'Unix time', ()),\n",
       " SchemaField('time_ts', 'TIMESTAMP', 'NULLABLE', 'Human readable time in UTC (format: YYYY-MM-DD hh:mm:ss)', ()),\n",
       " SchemaField('text', 'STRING', 'NULLABLE', 'Comment text', ()),\n",
       " SchemaField('parent', 'INTEGER', 'NULLABLE', 'Parent comment ID', ()),\n",
       " SchemaField('deleted', 'BOOLEAN', 'NULLABLE', 'Is deleted?', ()),\n",
       " SchemaField('dead', 'BOOLEAN', 'NULLABLE', 'Is dead?', ()),\n",
       " SchemaField('ranking', 'INTEGER', 'NULLABLE', 'Comment ranking', ())]"
      ]
     },
     "execution_count": 11,
     "metadata": {
      "tags": []
     },
     "output_type": "execute_result"
    }
   ],
   "source": [
    "hn_comments.schema"
   ]
  },
  {
   "cell_type": "code",
   "execution_count": 0,
   "metadata": {
    "colab": {},
    "colab_type": "code",
    "id": "FNKLB8bqmx1o"
   },
   "outputs": [],
   "source": [
    "schema_subset = [col for col in hn_comments.schema if col.name in ('by', 'text', 'time_ts')]\n",
    "results = [x for x in client.list_rows(hn_comments, selected_fields=schema_subset, max_results=10)]"
   ]
  },
  {
   "cell_type": "code",
   "execution_count": 0,
   "metadata": {
    "colab": {
     "base_uri": "https://localhost:8080/",
     "height": 55
    },
    "colab_type": "code",
    "id": "aI8wFGt5neRg",
    "outputId": "89ca8cd7-5a46-41cb-8e80-5ab4ba722a48"
   },
   "outputs": [
    {
     "name": "stdout",
     "output_type": "stream",
     "text": [
      "[Row(('5l', datetime.datetime(2011, 6, 27, 14, 28, 1, tzinfo=<UTC>), 'And the glazier who fixed all the broken windows also left his money to good causes.'), {'by': 0, 'time_ts': 1, 'text': 2}), Row(('99', datetime.datetime(2013, 6, 3, 4, 34, 8, tzinfo=<UTC>), 'Does canada have the equivalent of H1B/Green card for work sponsorship? What do you think of that?'), {'by': 0, 'time_ts': 1, 'text': 2}), Row(('AF', datetime.datetime(2007, 5, 12, 17, 53, 20, tzinfo=<UTC>), 'Speaking of Rails, there are other options in the Python world besides Django.<p>Pylons is a very Rails-y framework with the difference being that it is made to be easy to customize. In Rails if you don\\'t like something you are going to have a hard time changing it out unless you are a good hacker. In Pylons that is easy, and you\\'ve got access to Python\\'s vastly better platform (speed, Unicode support) and libraries.<p>If you are an absolute beginning programmer it might be kind of hard to pick up, but if you\\'ve programmed a bit or you\\'ve used one or two web frameworks (especially Rails) Pylons won\\'t be hard to learn.<p><a href=\"http://pylonshq.com/\" rel=\"nofollow\">http://pylonshq.com/</a>'), {'by': 0, 'time_ts': 1, 'text': 2}), Row(('EA', datetime.datetime(2015, 9, 2, 15, 9, 34, tzinfo=<UTC>), 'Humans and large livestock (and maybe even pets) will have health monitoring devices embedded into their bodies in the near future.  The devices will save the insurance companies money.  Savings on insurance premiums will be the incentive to encourage mass adoption by citizens and owners of livestock.'), {'by': 0, 'time_ts': 1, 'text': 2}), Row(('Iv', datetime.datetime(2011, 9, 12, 18, 53, tzinfo=<UTC>), 'I must say I reacted in the same way when I read about Madoff. The fact that people who are supposed to inspect investments would fall for such a scheme was one of the first nails that was put in the esteem I had for economy specialists.'), {'by': 0, 'time_ts': 1, 'text': 2}), Row(('Iv', datetime.datetime(2012, 4, 20, 11, 39, 44, tzinfo=<UTC>), \"&#62; There's a whole class of 'mom &#38; pop' type websites out there that need analytics to function<p>If they are not skilled enough to install their own counter, I doubt they need analytics.\"), {'by': 0, 'time_ts': 1, 'text': 2}), Row(('Iv', datetime.datetime(2012, 5, 3, 20, 26, 5, tzinfo=<UTC>), \"I'm also in this ballpark (300-600€ / day) which in the end amounts to twice the monthly salary I used to have.\"), {'by': 0, 'time_ts': 1, 'text': 2}), Row(('Iv', datetime.datetime(2011, 10, 13, 15, 34, 4, tzinfo=<UTC>), 'how do you run unity in non-accelerated mode ? \\nIt has always refused to run for me unless I had graphical acceleration installed.'), {'by': 0, 'time_ts': 1, 'text': 2}), Row(('Iv', datetime.datetime(2014, 10, 4, 11, 20, 47, tzinfo=<UTC>), 'Polio is not exterminated even if it is absent since a while in Belgium. Even if some cases appear in Belgium, the reemerence of an epidemic is improbable in such a highly vaccinated area, unless some anti-vaxxer community manage to catch it.<p>You are probably confusing it with smallpox which has been eradicated.'), {'by': 0, 'time_ts': 1, 'text': 2}), Row(('Jd', datetime.datetime(2011, 8, 7, 4, 17, 26, tzinfo=<UTC>), 'Yep, I didn\\'t find Rescuetime very helpful. I tend to think employee monitoring is evil and if I am personally not engaged in the work I am doing I would rather find engaging work than look at the time I waste on other things (HN, for example).<p>A proposed startup: web interface that would block all devices totally (or simply from the internet) for certain period of time. For instance, you could click a button when you get home from work that says, \"I\\'m done for the evening\" that removes all electronic distractions until some set time in the morning.<p>Possibilities exist on different devices for this, but nothing that ties them all together. Of course, it may not be that popular since not all that many people that are addicted to their devices treat it as a serious problem to be remedied (HN addicts included).'), {'by': 0, 'time_ts': 1, 'text': 2})]\n"
     ]
    }
   ],
   "source": [
    "print(results)"
   ]
  },
  {
   "cell_type": "code",
   "execution_count": 0,
   "metadata": {
    "colab": {
     "base_uri": "https://localhost:8080/",
     "height": 219
    },
    "colab_type": "code",
    "id": "A3UEMR7QpCfV",
    "outputId": "b5fca257-c447-4124-ecdd-5ef5fd4c9f52"
   },
   "outputs": [
    {
     "name": "stdout",
     "output_type": "stream",
     "text": [
      "{'by': '5l', 'time_ts': datetime.datetime(2011, 6, 27, 14, 28, 1, tzinfo=<UTC>), 'text': 'And the glazier who fixed all the broken windows also left his money to good causes.'}\n",
      "{'by': '99', 'time_ts': datetime.datetime(2013, 6, 3, 4, 34, 8, tzinfo=<UTC>), 'text': 'Does canada have the equivalent of H1B/Green card for work sponsorship? What do you think of that?'}\n",
      "{'by': 'AF', 'time_ts': datetime.datetime(2007, 5, 12, 17, 53, 20, tzinfo=<UTC>), 'text': 'Speaking of Rails, there are other options in the Python world besides Django.<p>Pylons is a very Rails-y framework with the difference being that it is made to be easy to customize. In Rails if you don\\'t like something you are going to have a hard time changing it out unless you are a good hacker. In Pylons that is easy, and you\\'ve got access to Python\\'s vastly better platform (speed, Unicode support) and libraries.<p>If you are an absolute beginning programmer it might be kind of hard to pick up, but if you\\'ve programmed a bit or you\\'ve used one or two web frameworks (especially Rails) Pylons won\\'t be hard to learn.<p><a href=\"http://pylonshq.com/\" rel=\"nofollow\">http://pylonshq.com/</a>'}\n",
      "{'by': 'EA', 'time_ts': datetime.datetime(2015, 9, 2, 15, 9, 34, tzinfo=<UTC>), 'text': 'Humans and large livestock (and maybe even pets) will have health monitoring devices embedded into their bodies in the near future.  The devices will save the insurance companies money.  Savings on insurance premiums will be the incentive to encourage mass adoption by citizens and owners of livestock.'}\n",
      "{'by': 'Iv', 'time_ts': datetime.datetime(2011, 9, 12, 18, 53, tzinfo=<UTC>), 'text': 'I must say I reacted in the same way when I read about Madoff. The fact that people who are supposed to inspect investments would fall for such a scheme was one of the first nails that was put in the esteem I had for economy specialists.'}\n",
      "{'by': 'Iv', 'time_ts': datetime.datetime(2012, 4, 20, 11, 39, 44, tzinfo=<UTC>), 'text': \"&#62; There's a whole class of 'mom &#38; pop' type websites out there that need analytics to function<p>If they are not skilled enough to install their own counter, I doubt they need analytics.\"}\n",
      "{'by': 'Iv', 'time_ts': datetime.datetime(2012, 5, 3, 20, 26, 5, tzinfo=<UTC>), 'text': \"I'm also in this ballpark (300-600€ / day) which in the end amounts to twice the monthly salary I used to have.\"}\n",
      "{'by': 'Iv', 'time_ts': datetime.datetime(2011, 10, 13, 15, 34, 4, tzinfo=<UTC>), 'text': 'how do you run unity in non-accelerated mode ? \\nIt has always refused to run for me unless I had graphical acceleration installed.'}\n",
      "{'by': 'Iv', 'time_ts': datetime.datetime(2014, 10, 4, 11, 20, 47, tzinfo=<UTC>), 'text': 'Polio is not exterminated even if it is absent since a while in Belgium. Even if some cases appear in Belgium, the reemerence of an epidemic is improbable in such a highly vaccinated area, unless some anti-vaxxer community manage to catch it.<p>You are probably confusing it with smallpox which has been eradicated.'}\n",
      "{'by': 'Jd', 'time_ts': datetime.datetime(2011, 8, 7, 4, 17, 26, tzinfo=<UTC>), 'text': 'Yep, I didn\\'t find Rescuetime very helpful. I tend to think employee monitoring is evil and if I am personally not engaged in the work I am doing I would rather find engaging work than look at the time I waste on other things (HN, for example).<p>A proposed startup: web interface that would block all devices totally (or simply from the internet) for certain period of time. For instance, you could click a button when you get home from work that says, \"I\\'m done for the evening\" that removes all electronic distractions until some set time in the morning.<p>Possibilities exist on different devices for this, but nothing that ties them all together. Of course, it may not be that popular since not all that many people that are addicted to their devices treat it as a serious problem to be remedied (HN addicts included).'}\n"
     ]
    }
   ],
   "source": [
    "for i in results:\n",
    "    print(dict(i))"
   ]
  },
  {
   "cell_type": "code",
   "execution_count": 0,
   "metadata": {
    "colab": {},
    "colab_type": "code",
    "id": "o_XhvKl0npDj"
   },
   "outputs": [],
   "source": [
    "# Using WHERE reduces the amount of data scanned / quota used\n",
    "query = \"\"\"\n",
    "SELECT author, COUNT(author)\n",
    "FROM `bigquery-public-data.hacker_news.comments`\n",
    "GROUP BY author\n",
    "HAVING COUNT(author) >= 5\n",
    "ORDER BY COUNT(author) DESC\n",
    "\"\"\""
   ]
  },
  {
   "cell_type": "code",
   "execution_count": 0,
   "metadata": {
    "colab": {},
    "colab_type": "code",
    "id": "aphK-ewMrfey"
   },
   "outputs": [],
   "source": [
    "query_job = client.query(query)"
   ]
  },
  {
   "cell_type": "code",
   "execution_count": 0,
   "metadata": {
    "colab": {
     "base_uri": "https://localhost:8080/",
     "height": 199
    },
    "colab_type": "code",
    "id": "cJfgW4C6tSNq",
    "outputId": "8fae7c52-e1a3-4bc2-91c1-33c6e72fd2fa"
   },
   "outputs": [
    {
     "data": {
      "text/plain": [
       "[Row(('tptacek', 33839), {'author': 0, 'f0_': 1}),\n",
       " Row(('jacquesm', 21107), {'author': 0, 'f0_': 1}),\n",
       " Row(('jrockway', 13626), {'author': 0, 'f0_': 1}),\n",
       " Row(('DanBC', 12902), {'author': 0, 'f0_': 1}),\n",
       " Row(('anigbrowl', 11395), {'author': 0, 'f0_': 1}),\n",
       " Row(('rayiner', 11080), {'author': 0, 'f0_': 1}),\n",
       " Row(('sp332', 10882), {'author': 0, 'f0_': 1}),\n",
       " Row(('davidw', 10764), {'author': 0, 'f0_': 1}),\n",
       " Row(('dragonwriter', 10723), {'author': 0, 'f0_': 1}),\n",
       " Row(('rbanffy', 10557), {'author': 0, 'f0_': 1})]"
      ]
     },
     "execution_count": 17,
     "metadata": {
      "tags": []
     },
     "output_type": "execute_result"
    }
   ],
   "source": [
    "iterator = query_job.result(timeout=1)\n",
    "commenters = list(iterator)\n",
    "commenters[:10]"
   ]
  },
  {
   "cell_type": "code",
   "execution_count": 0,
   "metadata": {
    "colab": {
     "base_uri": "https://localhost:8080/",
     "height": 35
    },
    "colab_type": "code",
    "id": "LbFYs_0Z9ClX",
    "outputId": "50c23baf-5ac7-4cd8-e6dc-b9c61a0b0219"
   },
   "outputs": [
    {
     "data": {
      "text/plain": [
       "85350"
      ]
     },
     "execution_count": 18,
     "metadata": {
      "tags": []
     },
     "output_type": "execute_result"
    }
   ],
   "source": [
    "len(commenters)"
   ]
  },
  {
   "cell_type": "code",
   "execution_count": 0,
   "metadata": {
    "colab": {},
    "colab_type": "code",
    "id": "uo-JH7JYbO5h"
   },
   "outputs": [],
   "source": [
    "query = \"\"\"\n",
    "SELECT author, text, time_ts\n",
    "FROM `bigquery-public-data.hacker_news.comments`\n",
    "\"\"\""
   ]
  },
  {
   "cell_type": "code",
   "execution_count": 0,
   "metadata": {
    "colab": {},
    "colab_type": "code",
    "id": "90H72Re0dRHH"
   },
   "outputs": [],
   "source": [
    "query_job = client.query(query)"
   ]
  },
  {
   "cell_type": "code",
   "execution_count": 0,
   "metadata": {
    "colab": {
     "base_uri": "https://localhost:8080/",
     "height": 128
    },
    "colab_type": "code",
    "id": "WxDrqFvsdUCZ",
    "outputId": "fe5d23e7-7046-485e-97a9-10949f8e3d8b"
   },
   "outputs": [
    {
     "data": {
      "text/plain": [
       "[Row(('spenvo', 'So this has been going on since at least 2008... Extremely disappointing but not surprising.[0]  What Americans forget is that GHCQ&#x27;s policies affect us as much or more than the NSA&#x27;s and that by &#x27;backdoor-ing&#x27; crypto, as Cameron &amp; Obama want, we forfeit our privacy to foreign governments as well.<p>How can democratic society continue to function if the state indulges its interest in journalists&#x27; and attorneys&#x27; confidential communications without any inhibitions?<p>This demonstrates that Cameron&#x27;s pledge to only access laypersons&#x27; communication in the most &quot;dire circumstances&quot; (the case he makes for backdooring crypto) is pure rhetoric.<p>[0] <a href=\"https://firstlook.org/theintercept/2014/11/06/uk-surveillance-of-lawyers-journalists-gchq/\" rel=\"nofollow\">https:&#x2F;&#x2F;firstlook.org&#x2F;theintercept&#x2F;2014&#x2F;11&#x2F;06&#x2F;uk-surveillanc...</a>', datetime.datetime(2015, 1, 19, 19, 30, 39, tzinfo=<UTC>)), {'author': 0, 'text': 1, 'time_ts': 2}),\n",
       " Row(('splawn', 'Good point! More stay at home parents is another benefit of BI that I haven&#x27;t even thought of yet. I get more sold on this idea the more I read about it.', datetime.datetime(2015, 7, 2, 14, 18, 37, tzinfo=<UTC>)), {'author': 0, 'text': 1, 'time_ts': 2}),\n",
       " Row(('spodek', 'Many posts here critical of JFK so far, including one agreeing with link calling him a monster. Somebody posted here &quot;Its not sexual abuse when you&#x27;re either the President or in Hollywood,&quot; as if his position or location was relevant. The relevant point is everyone was adult and participated voluntarily.<p>We are all free to share our opinions, but different people have different values. 19-year-old women and 45-year-old men are adults free to decide to do what they want. If they choose to do something you disagree with, others disagree with what you do.<p>Name-calling and criticizing adults for doing what everyone involved consented to is opinion and they go both ways.', datetime.datetime(2013, 10, 23, 23, 28, 32, tzinfo=<UTC>)), {'author': 0, 'text': 1, 'time_ts': 2}),\n",
       " Row(('sprout', \"They don't want a third-party app to become a key part of the iOS experience because then when it is ported some of the Apple sheen would  likely rub off on Windows/Android.\", datetime.datetime(2010, 6, 11, 19, 59, 58, tzinfo=<UTC>)), {'author': 0, 'text': 1, 'time_ts': 2}),\n",
       " Row(('spxdcz', 'Oh, good idea. I might do a follow-up/edit with that. Thanks!', datetime.datetime(2010, 1, 5, 14, 53, 39, tzinfo=<UTC>)), {'author': 0, 'text': 1, 'time_ts': 2})]"
      ]
     },
     "execution_count": 21,
     "metadata": {
      "tags": []
     },
     "output_type": "execute_result"
    }
   ],
   "source": [
    "iterator = query_job.result(timeout=30)\n",
    "rows = list(iterator)\n",
    "rows[:5]"
   ]
  },
  {
   "cell_type": "code",
   "execution_count": 0,
   "metadata": {
    "colab": {
     "base_uri": "https://localhost:8080/",
     "height": 35
    },
    "colab_type": "code",
    "id": "J_9gL-3DfVwU",
    "outputId": "5fe83407-197a-4cef-d4c2-8ff92739e573"
   },
   "outputs": [
    {
     "data": {
      "text/plain": [
       "8399417"
      ]
     },
     "execution_count": 22,
     "metadata": {
      "tags": []
     },
     "output_type": "execute_result"
    }
   ],
   "source": [
    "len(rows)"
   ]
  },
  {
   "cell_type": "code",
   "execution_count": 0,
   "metadata": {
    "colab": {},
    "colab_type": "code",
    "id": "TbEl6SJjm51o"
   },
   "outputs": [],
   "source": [
    "import numpy as np\n",
    "import pandas as pd"
   ]
  },
  {
   "cell_type": "code",
   "execution_count": 0,
   "metadata": {
    "colab": {},
    "colab_type": "code",
    "id": "PAG-u9qCnpf1"
   },
   "outputs": [],
   "source": [
    "df = pd.DataFrame(data=[list(x.values()) for x in rows], columns=list(rows[0].keys()))"
   ]
  },
  {
   "cell_type": "code",
   "execution_count": 0,
   "metadata": {
    "colab": {
     "base_uri": "https://localhost:8080/",
     "height": 363
    },
    "colab_type": "code",
    "id": "LhLfGYqooFCg",
    "outputId": "677c8757-5c56-4b50-c21b-3d0b62b06257"
   },
   "outputs": [
    {
     "data": {
      "text/html": [
       "<div>\n",
       "<style scoped>\n",
       "    .dataframe tbody tr th:only-of-type {\n",
       "        vertical-align: middle;\n",
       "    }\n",
       "\n",
       "    .dataframe tbody tr th {\n",
       "        vertical-align: top;\n",
       "    }\n",
       "\n",
       "    .dataframe thead th {\n",
       "        text-align: right;\n",
       "    }\n",
       "</style>\n",
       "<table border=\"1\" class=\"dataframe\">\n",
       "  <thead>\n",
       "    <tr style=\"text-align: right;\">\n",
       "      <th></th>\n",
       "      <th>author</th>\n",
       "      <th>text</th>\n",
       "      <th>time_ts</th>\n",
       "    </tr>\n",
       "  </thead>\n",
       "  <tbody>\n",
       "    <tr>\n",
       "      <th>0</th>\n",
       "      <td>spenvo</td>\n",
       "      <td>So this has been going on since at least 2008....</td>\n",
       "      <td>2015-01-19 19:30:39+00:00</td>\n",
       "    </tr>\n",
       "    <tr>\n",
       "      <th>1</th>\n",
       "      <td>splawn</td>\n",
       "      <td>Good point! More stay at home parents is anoth...</td>\n",
       "      <td>2015-07-02 14:18:37+00:00</td>\n",
       "    </tr>\n",
       "    <tr>\n",
       "      <th>2</th>\n",
       "      <td>spodek</td>\n",
       "      <td>Many posts here critical of JFK so far, includ...</td>\n",
       "      <td>2013-10-23 23:28:32+00:00</td>\n",
       "    </tr>\n",
       "    <tr>\n",
       "      <th>3</th>\n",
       "      <td>sprout</td>\n",
       "      <td>They don't want a third-party app to become a ...</td>\n",
       "      <td>2010-06-11 19:59:58+00:00</td>\n",
       "    </tr>\n",
       "    <tr>\n",
       "      <th>4</th>\n",
       "      <td>spxdcz</td>\n",
       "      <td>Oh, good idea. I might do a follow-up/edit wit...</td>\n",
       "      <td>2010-01-05 14:53:39+00:00</td>\n",
       "    </tr>\n",
       "    <tr>\n",
       "      <th>5</th>\n",
       "      <td>sqrt17</td>\n",
       "      <td>This is precisely why no one uses the raw wave...</td>\n",
       "      <td>2010-05-03 07:59:22+00:00</td>\n",
       "    </tr>\n",
       "    <tr>\n",
       "      <th>6</th>\n",
       "      <td>ssijak</td>\n",
       "      <td>Thanks for the reply! I implemented some of th...</td>\n",
       "      <td>2014-04-21 09:54:25+00:00</td>\n",
       "    </tr>\n",
       "    <tr>\n",
       "      <th>7</th>\n",
       "      <td>ssmoot</td>\n",
       "      <td>Right on the money.&lt;p&gt;When your boss asks a qu...</td>\n",
       "      <td>2014-03-14 16:41:43+00:00</td>\n",
       "    </tr>\n",
       "    <tr>\n",
       "      <th>8</th>\n",
       "      <td>ssmoot</td>\n",
       "      <td>I've done this (GMail setup). Didn't work for ...</td>\n",
       "      <td>2011-08-19 18:56:05+00:00</td>\n",
       "    </tr>\n",
       "    <tr>\n",
       "      <th>9</th>\n",
       "      <td>ssmoot</td>\n",
       "      <td>&amp;#62; JRuby as a gateway drug to the Land of R...</td>\n",
       "      <td>2011-06-08 03:34:57+00:00</td>\n",
       "    </tr>\n",
       "  </tbody>\n",
       "</table>\n",
       "</div>"
      ],
      "text/plain": [
       "   author                                               text  \\\n",
       "0  spenvo  So this has been going on since at least 2008....   \n",
       "1  splawn  Good point! More stay at home parents is anoth...   \n",
       "2  spodek  Many posts here critical of JFK so far, includ...   \n",
       "3  sprout  They don't want a third-party app to become a ...   \n",
       "4  spxdcz  Oh, good idea. I might do a follow-up/edit wit...   \n",
       "5  sqrt17  This is precisely why no one uses the raw wave...   \n",
       "6  ssijak  Thanks for the reply! I implemented some of th...   \n",
       "7  ssmoot  Right on the money.<p>When your boss asks a qu...   \n",
       "8  ssmoot  I've done this (GMail setup). Didn't work for ...   \n",
       "9  ssmoot  &#62; JRuby as a gateway drug to the Land of R...   \n",
       "\n",
       "                    time_ts  \n",
       "0 2015-01-19 19:30:39+00:00  \n",
       "1 2015-07-02 14:18:37+00:00  \n",
       "2 2013-10-23 23:28:32+00:00  \n",
       "3 2010-06-11 19:59:58+00:00  \n",
       "4 2010-01-05 14:53:39+00:00  \n",
       "5 2010-05-03 07:59:22+00:00  \n",
       "6 2014-04-21 09:54:25+00:00  \n",
       "7 2014-03-14 16:41:43+00:00  \n",
       "8 2011-08-19 18:56:05+00:00  \n",
       "9 2011-06-08 03:34:57+00:00  "
      ]
     },
     "execution_count": 25,
     "metadata": {
      "tags": []
     },
     "output_type": "execute_result"
    }
   ],
   "source": [
    "df.head(10)"
   ]
  },
  {
   "cell_type": "code",
   "execution_count": 0,
   "metadata": {
    "colab": {},
    "colab_type": "code",
    "id": "obPVwZpsoGmE"
   },
   "outputs": [],
   "source": [
    "import re\n",
    "from textblob import TextBlob\n",
    "\n",
    "def clean_text(text):\n",
    "    \"\"\"\n",
    "    Utility function to clean text by removing links, special characters\n",
    "    using simple regex statements. May not be needed.\n",
    "    \"\"\"\n",
    "    return ''.join(re.sub(\"(@[A-Za-z0-9]+)|([^0-9A-Za-z \\t])|(\\w+:\\ / \\ / \\S+)\",\"\", text))\n",
    "\n",
    "\n",
    "def get_sentiment(text):\n",
    "    \"\"\"\n",
    "    Utility function to classify sentiment of passed text\n",
    "    using textblob's sentiment method. Return the polarity\n",
    "    score as a float within the range [-1.0, 1.0]\n",
    "    \"\"\"\n",
    "    # create TextBlob object of passed text's polarity\n",
    "    return TextBlob(text).sentiment.polarity"
   ]
  },
  {
   "cell_type": "code",
   "execution_count": 0,
   "metadata": {
    "colab": {
     "base_uri": "https://localhost:8080/",
     "height": 90
    },
    "colab_type": "code",
    "id": "LywOWCeYFxQi",
    "outputId": "6062e40e-6bd2-46f5-ca19-8178a1f2e453"
   },
   "outputs": [
    {
     "data": {
      "text/plain": [
       "author     227736\n",
       "text       227740\n",
       "time_ts         0\n",
       "dtype: int64"
      ]
     },
     "execution_count": 27,
     "metadata": {
      "tags": []
     },
     "output_type": "execute_result"
    }
   ],
   "source": [
    "df.isna().sum()"
   ]
  },
  {
   "cell_type": "code",
   "execution_count": 0,
   "metadata": {
    "colab": {
     "base_uri": "https://localhost:8080/",
     "height": 90
    },
    "colab_type": "code",
    "id": "V_EpcZnj_4lg",
    "outputId": "2481fec1-1a48-45b7-8d61-ca65bbbf368d"
   },
   "outputs": [
    {
     "data": {
      "text/plain": [
       "author     0\n",
       "text       0\n",
       "time_ts    0\n",
       "dtype: int64"
      ]
     },
     "execution_count": 28,
     "metadata": {
      "tags": []
     },
     "output_type": "execute_result"
    }
   ],
   "source": [
    "df_no_nulls = df.dropna()\n",
    "df_no_nulls.isna().sum()"
   ]
  },
  {
   "cell_type": "code",
   "execution_count": 0,
   "metadata": {
    "colab": {
     "base_uri": "https://localhost:8080/",
     "height": 90
    },
    "colab_type": "code",
    "id": "SWaWoI7n_m6S",
    "outputId": "b3ffe8eb-396a-47ad-f859-4fec8947ece4"
   },
   "outputs": [
    {
     "data": {
      "text/plain": [
       "author     0\n",
       "text       0\n",
       "time_ts    0\n",
       "dtype: int64"
      ]
     },
     "execution_count": 29,
     "metadata": {
      "tags": []
     },
     "output_type": "execute_result"
    }
   ],
   "source": [
    "df_no_nulls.isna().sum()"
   ]
  },
  {
   "cell_type": "code",
   "execution_count": 0,
   "metadata": {
    "colab": {
     "base_uri": "https://localhost:8080/",
     "height": 35
    },
    "colab_type": "code",
    "id": "v4h7pssiy4ry",
    "outputId": "06f946d0-60b0-4914-82ed-ec91d98ef0c1"
   },
   "outputs": [
    {
     "data": {
      "text/plain": [
       "(8171677, 3)"
      ]
     },
     "execution_count": 30,
     "metadata": {
      "tags": []
     },
     "output_type": "execute_result"
    }
   ],
   "source": [
    "df_no_nulls.shape"
   ]
  },
  {
   "cell_type": "code",
   "execution_count": 0,
   "metadata": {
    "colab": {},
    "colab_type": "code",
    "id": "cnOtWuLhP4VS"
   },
   "outputs": [],
   "source": [
    "df_no_nulls.to_csv('hackernews.csv', index=False)"
   ]
  },
  {
   "cell_type": "code",
   "execution_count": 0,
   "metadata": {
    "colab": {
     "base_uri": "https://localhost:8080/",
     "height": 35
    },
    "colab_type": "code",
    "id": "gq3k7Jg7Z4ae",
    "outputId": "4a233b8b-66de-4fc3-c759-7e0e46d50326"
   },
   "outputs": [
    {
     "data": {
      "text/plain": [
       "(2042920, 3)"
      ]
     },
     "execution_count": 32,
     "metadata": {
      "tags": []
     },
     "output_type": "execute_result"
    }
   ],
   "source": [
    "df_fourth1 = df_no_nulls[:2042920]\n",
    "df_fourth1.shape"
   ]
  },
  {
   "cell_type": "code",
   "execution_count": 0,
   "metadata": {
    "colab": {},
    "colab_type": "code",
    "id": "UIu5H6wraayh"
   },
   "outputs": [],
   "source": [
    "df_fourth1.to_csv('hackernews1.csv', index=False)"
   ]
  },
  {
   "cell_type": "code",
   "execution_count": 35,
   "metadata": {
    "colab": {
     "base_uri": "https://localhost:8080/",
     "height": 35
    },
    "colab_type": "code",
    "id": "yCrbNzHgg_aT",
    "outputId": "8ba19ae3-4d82-42f3-f348-4f282ce70a59"
   },
   "outputs": [
    {
     "data": {
      "text/plain": [
       "(1021460, 3)"
      ]
     },
     "execution_count": 35,
     "metadata": {
      "tags": []
     },
     "output_type": "execute_result"
    }
   ],
   "source": [
    "df_eighth1 = df_no_nulls[:1021460]\n",
    "df_eighth1.shape"
   ]
  },
  {
   "cell_type": "code",
   "execution_count": 0,
   "metadata": {
    "colab": {},
    "colab_type": "code",
    "id": "1aSfhh3lhP7W"
   },
   "outputs": [],
   "source": [
    "df_eighth1.to_csv('hackernews1.csv', index=False)"
   ]
  }
 ],
 "metadata": {
  "colab": {
   "collapsed_sections": [],
   "include_colab_link": true,
   "name": "HackerNews.ipynb",
   "provenance": [],
   "version": "0.3.2"
  },
  "kernelspec": {
   "display_name": "Python 3",
   "language": "python",
   "name": "python3"
  },
  "language_info": {
   "codemirror_mode": {
    "name": "ipython",
    "version": 3
   },
   "file_extension": ".py",
   "mimetype": "text/x-python",
   "name": "python",
   "nbconvert_exporter": "python",
   "pygments_lexer": "ipython3",
   "version": "3.6.5"
  }
 },
 "nbformat": 4,
 "nbformat_minor": 1
}
